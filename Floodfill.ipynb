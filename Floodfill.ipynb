from typing import List

board = [
    "......................",
    "......##########......",
    "......#........#......",
    "......#........#......",
    "......#........#####..",
    "....###............#..",
    "....#............###..",
    "....##############....",
]



def flood_fill(input_board, old, new, x, y):
    if input_board[x][y] == "#" or input_board[x][y] == new: 
        return;
    if input_board[x][y] != old:
        return;
    column = list(input_board[x]) 
    column[y] = new 
    input_board[x] = ''.join(column)
    flood_fill(input_board,old,new,x+1,y); 
    flood_fill(input_board,old,new,x-1,y); 
    flood_fill(input_board,old,new,x,y+1); 
    flood_fill(input_board,old,new,x,y-1); 
    return;


#Calling the flood fill function
flood_fill(board,".","~",5,12)



for a in board:
    print(a)
