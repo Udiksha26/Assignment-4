{
 "cells": [
  {
   "cell_type": "code",
   "execution_count": 1,
   "metadata": {},
   "outputs": [
    {
     "name": "stdout",
     "output_type": "stream",
     "text": [
      "......................\n",
      "......##########......\n",
      "......#~~~~~~~~#......\n",
      "......#~~~~~~~~#......\n",
      "......#~~~~~~~~#####..\n",
      "....###~~~~~~~~~~~~#..\n",
      "....#~~~~~~~~~~~~###..\n",
      "....##############....\n"
     ]
    }
   ],
   "source": [
    "from typing import List\n",
    "board = [\n",
    "    \"......................\",\n",
    "    \"......##########......\",\n",
    "    \"......#........#......\",\n",
    "    \"......#........#......\",\n",
    "    \"......#........#####..\",\n",
    "    \"....###............#..\",\n",
    "    \"....#............###..\",\n",
    "    \"....##############....\",\n",
    "]\n",
    "\n",
    "\n",
    "\n",
    "def flood_fill(input_board, old, new, x, y): #defining flood fill function\n",
    "    if input_board[x][y] == \"#\" or input_board[x][y] == new: \n",
    "        return;\n",
    "    if input_board[x][y] != old: #checking confition if matrix not equal to old\n",
    "        return;\n",
    "    column = list(input_board[x]) \n",
    "    column[y] = new \n",
    "    input_board[x] = ''.join(column)\n",
    "    flood_fill(input_board,old,new,x+1,y); \n",
    "    flood_fill(input_board,old,new,x-1,y); \n",
    "    flood_fill(input_board,old,new,x,y+1); \n",
    "    flood_fill(input_board,old,new,x,y-1); \n",
    "    return;\n",
    "\n",
    "\n",
    "\n",
    "flood_fill(board,\".\",\"~\",5,12)\n",
    "\n",
    "\n",
    "\n",
    "for a in board:\n",
    "    print(a)\n",
    "\n",
    "\n"
   ]
  }
 ],
 "metadata": {
  "kernelspec": {
   "display_name": "Python 3.10.8 64-bit",
   "language": "python",
   "name": "python3"
  },
  "language_info": {
   "codemirror_mode": {
    "name": "ipython",
    "version": 3
   },
   "file_extension": ".py",
   "mimetype": "text/x-python",
   "name": "python",
   "nbconvert_exporter": "python",
   "pygments_lexer": "ipython3",
   "version": "3.10.8"
  },
  "orig_nbformat": 4,
  "vscode": {
   "interpreter": {
    "hash": "b0fa6594d8f4cbf19f97940f81e996739fb7646882a419484c72d19e05852a7e"
   }
  }
 },
 "nbformat": 4,
 "nbformat_minor": 2
}
